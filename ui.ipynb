{
 "cells": [
  {
   "cell_type": "code",
   "execution_count": 1,
   "id": "af8ffac5-b974-4201-b0aa-f27c686bf940",
   "metadata": {
    "tags": []
   },
   "outputs": [],
   "source": [
    "#Randomizer\n",
    "\n",
    "library(shiny)\n",
    "\n",
    "# Define UI for application that draws random numbers\n",
    "shinyServer(fluidPage(\n",
    "  \n",
    "    # Application title\n",
    "    titlePanel(\"Plot random Numbers\"),\n",
    "\n",
    "    # Sidebar with a slider input\n",
    "    sidebarLayout(\n",
    "        sidebarPanel(\n",
    "            numericInput('numeric', '',\n",
    "                         value = 1000, min = 1, max = 1000, step = 1),\n",
    "            sliderInput('sliderX', ' ', \n",
    "                        -100, 100, value = c(-50, 50)),\n",
    "            sliderInput('sliderY', '',\n",
    "                        -100, 100, value = c(-50,50)),\n",
    "            checkboxInput('show_xlab', 'Show/Hide X axis Label', value = T),\n",
    "            checkboxInput('show_ylab', 'Show/Hide Y axis Label', value = T),\n",
    "            checkboxInput('show_title', 'Show/Hide Title')\n",
    "        ),\n",
    "\n",
    "        # Show a plot of the generated distribution\n",
    "        mainPanel(\n",
    "            h3('Graph of Random Plots'),\n",
    "            plotOutput(\"plot1\")\n",
    "        )\n",
    "    )\n",
    "  )\n",
    ")"
   ]
  },
  {
   "cell_type": "code",
   "execution_count": null,
   "id": "efde4e84-0605-45a5-a087-5269e17409ef",
   "metadata": {},
   "outputs": [],
   "source": []
  }
 ],
 "metadata": {
  "kernelspec": {
   "display_name": "R",
   "language": "R",
   "name": "ir"
  },
  "language_info": {
   "codemirror_mode": "r",
   "file_extension": ".r",
   "mimetype": "text/x-r-source",
   "name": "R",
   "pygments_lexer": "r",
   "version": "4.3.2"
  }
 },
 "nbformat": 4,
 "nbformat_minor": 5
}
