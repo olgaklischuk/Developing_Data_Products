{
    "cells": [
        {
            "cell_type": "markdown",
            "metadata": {},
            "source": [
                "## R Shiny App\n",
                "\n"
            ]
        },
        {
            "cell_type": "code",
            "execution_count": null,
            "metadata": {},
            "outputs": [],
            "source": [
                "# Uninstall the fastmap package from the system library folder\n",
                "# remove.packages(\"fastmap\", lib = \"C:/Users/Lenovo/AppData/Local/R/win-library/4.2\")\n"
            ]
        },
        {
            "cell_type": "markdown",
            "metadata": {},
            "source": "\n"
        },
        {
            "cell_type": "code",
            "execution_count": null,
            "metadata": {},
            "outputs": [],
            "source": [
                "install.packages('shiny')\n",
                "library(shiny)\n"
            ]
        },
        {
            "cell_type": "markdown",
            "metadata": {},
            "source": [
                "\n",
                "\n"
            ]
        },
        {
            "cell_type": "code",
            "execution_count": null,
            "metadata": {},
            "outputs": [],
            "source": [
                "# If previous step didn't work\n",
                "# Install and load the devtools package if you haven't already\n",
                "if (!requireNamespace(\"devtools\", quietly = TRUE)) {\n",
                "  install.packages(\"devtools\")\n",
                "}\n",
                "\n",
                "# Install fastmap version 1.1.1 in user library\n",
                "devtools::install_version(\"fastmap\", version = \"1.1.1\", lib = .libPaths()[1])\n"
            ]
        },
        {
            "cell_type": "markdown",
            "metadata": {},
            "source": [
                "\n",
                "\n"
            ]
        }
    ],
    "metadata": {
        "anaconda-cloud": "",
        "kernelspec": {
            "display_name": "R",
            "langauge": "R",
            "name": "ir"
        },
        "language_info": {
            "codemirror_mode": "r",
            "file_extension": ".r",
            "mimetype": "text/x-r-source",
            "name": "R",
            "pygments_lexer": "r",
            "version": "3.4.1"
        }
    },
    "nbformat": 4,
    "nbformat_minor": 1
}
