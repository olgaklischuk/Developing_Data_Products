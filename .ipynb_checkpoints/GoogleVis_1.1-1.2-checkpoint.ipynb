{
 "cells": [
  {
   "cell_type": "markdown",
   "id": "f24b21e6",
   "metadata": {
    "lines_to_next_cell": 0
   },
   "source": [
    "#GoogleVis 1.1"
   ]
  },
  {
   "cell_type": "code",
   "execution_count": null,
   "id": "e1016b8d",
   "metadata": {
    "lines_to_next_cell": 0
   },
   "outputs": [],
   "source": [
    "suppressPackageStartupMessages((library(googleVis)))\n",
    "print(Fruits)"
   ]
  },
  {
   "cell_type": "code",
   "execution_count": null,
   "id": "d174637b",
   "metadata": {},
   "outputs": [],
   "source": [
    "M <- gvisMotionChart(Fruits, 'Fruit', 'Year',\n",
    "                    option = list(width = 600, height = 400))\n",
    "plot(M, 'chart')"
   ]
  },
  {
   "cell_type": "code",
   "execution_count": null,
   "id": "405eea01",
   "metadata": {
    "lines_to_next_cell": 2
   },
   "outputs": [],
   "source": [
    "# Convert the Motion Chart to ggplot\n",
    "library(ggplot2)\n",
    "library(plotly)\n",
    "# ggplot_chart <-gvis2ggplot(M)"
   ]
  },
  {
   "cell_type": "code",
   "execution_count": null,
   "id": "1e989f21",
   "metadata": {},
   "outputs": [],
   "source": [
    "plot(M, file = 'test1.html')"
   ]
  },
  {
   "cell_type": "markdown",
   "id": "37b8a9fd",
   "metadata": {},
   "source": [
    "# Convert the ggplot chart to an interactive plotly chart\n",
    "plotly_chart <- ggplotly(ggplot_chart)\n",
    "\n",
    "# Display the interactive plotly chart\n",
    "plotly_chart"
   ]
  },
  {
   "cell_type": "markdown",
   "id": "ac62343b",
   "metadata": {},
   "source": [
    "## Charts in googleVis\n",
    "<center> \"gvis + ChartType\"\n",
    "</center>\n",
    "\n",
    "* Motion charts: `gvisMotionChart`\n",
    "* Interactive maps: `gvisGeoChart`\n",
    "* Interactive tables: `gvisTable`\n",
    "* Line charts: `gvisLineChart`\n",
    "\n",
    "#GvisGeo"
   ]
  },
  {
   "cell_type": "code",
   "execution_count": null,
   "id": "cb40f2fc",
   "metadata": {
    "lines_to_next_cell": 2
   },
   "outputs": [],
   "source": [
    "Exports"
   ]
  },
  {
   "cell_type": "code",
   "execution_count": null,
   "id": "70d0c078",
   "metadata": {},
   "outputs": [],
   "source": [
    "G <- gvisGeoChart(Exports, locationvar = c('Country'),\n",
    "                   colorvar = 'Profit',\n",
    "                   options = list( width = 600, height = 400))\n",
    "print(G)"
   ]
  },
  {
   "cell_type": "markdown",
   "id": "5eedd149",
   "metadata": {},
   "source": [
    "## Specifying a region"
   ]
  },
  {
   "cell_type": "code",
   "execution_count": null,
   "id": "c57041cb",
   "metadata": {
    "cache": true,
    "dependson": "gv",
    "resukts": "asis"
   },
   "outputs": [],
   "source": [
    "G <- gvisGeoChart(Exports, locationvar = 'Country', \n",
    "                  colorvar = 'Profit', options = list(width = 600, height = 400, region = '150'))\n",
    "plot(G, 'chart')"
   ]
  },
  {
   "cell_type": "markdown",
   "id": "b1676157",
   "metadata": {},
   "source": [
    "## Setting more options"
   ]
  },
  {
   "cell_type": "code",
   "execution_count": null,
   "id": "dbd7efd5",
   "metadata": {
    "cache": true,
    "dependson": "gv",
    "name": "linechart",
    "results": "asis"
   },
   "outputs": [],
   "source": [
    "\n",
    "df <- data.frame(label = c('US', 'GB','BR'), val1 = c(1, 3, 4), val2 = c(23, 12, 32))\n",
    "\n",
    "Line <- gvisLineChart(df, xvar = 'label', yvar = c('val1', 'val2'),\n",
    "                      options = list(title = 'Hello World', legend = 'bottom',\n",
    "                                     titleTextStyle = '{color: \"red\", fontSize: 18}',\n",
    "                                     vaxis = '{gridlines:{color: \"red\", count: 3}}',\n",
    "                                     haxis = '{title: \"My label\", titleTextStyle:{color: \"blue\"}}',\n",
    "                                     series = '[{color: \"green\", targetAxisIndex: 0},\n",
    "                                     {color: \"blue\", targetAxisIndex: 1}]',\n",
    "                                     vaxes = '[{title:\"Value 1 (%)\", format = \"##,######%\"},\n",
    "                                     {title: \"Value 2 (\\U00A3)\"}]',\n",
    "                                     curveType = 'function', width = 500, height = 300))\n",
    "\n",
    "plot(Line)"
   ]
  },
  {
   "cell_type": "markdown",
   "id": "d49577c3",
   "metadata": {},
   "source": [
    "## Combining multiple plots together"
   ]
  },
  {
   "cell_type": "code",
   "execution_count": null,
   "id": "2315e704",
   "metadata": {
    "cache": true,
    "dependson": "gv",
    "name": "multiplot",
    "results": "asis"
   },
   "outputs": [],
   "source": [
    "G <- gvisGeoChart(Exports, 'Country', 'Profit', options = list(width = 200, height = 100))\n",
    "T1<- gvisTable(Exports, options = list(width = 200, height = 270)) \n",
    "M <- gvisMotionChart(Fruits, 'Fruit', 'Year', options = list(width = 400, height = 170)) \n",
    "GT <-gvisMerge(G, T1, horizontal = T)\n",
    "GTM <- gvisMerge(GT, M, horizontal = T, tableOptions = 'bgcolor=\\\"#CCCCCC\\'cellspacing = 10')\n",
    "plot(GT)\n"
   ]
  },
  {
   "cell_type": "code",
   "execution_count": null,
   "id": "093d73b4",
   "metadata": {
    "cache": true,
    "dependson": "gv",
    "name": "multiplot",
    "results": "asis"
   },
   "outputs": [],
   "source": [
    "plot(GTM)\n",
    "print(GTM, 'chart')\n"
   ]
  },
  {
   "cell_type": "code",
   "execution_count": null,
   "id": "8c3cb3cd",
   "metadata": {},
   "outputs": [],
   "source": [
    "# library(knitr)\n",
    "# spin('GoogleVis 1.1-1.2.R', knit = F)\n",
    "# jupytext --to GoogleVis_1.1-1.2.ipynb GoogleVis_1.1-1.2.Rmd"
   ]
  }
 ],
 "metadata": {
  "jupytext": {
   "cell_metadata_filter": "resukts,name,dependson,results,cache,-all",
   "main_language": "R",
   "notebook_metadata_filter": "-all"
  }
 },
 "nbformat": 4,
 "nbformat_minor": 5
}
