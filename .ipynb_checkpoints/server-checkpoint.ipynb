{
 "cells": [
  {
   "cell_type": "code",
   "execution_count": null,
   "id": "16a137c8-6ee8-4abe-b2d9-a7d36bf514e6",
   "metadata": {},
   "outputs": [],
   "source": [
    "#PLot for random numbers\n",
    "library(shiny)\n",
    "\n",
    "# Define server logic required to draw a histogram\n",
    "function(input, output, session) {\n",
    "\n",
    "    output$plot1 <- renderPlot({\n",
    "      set.seed(2023-12-06)\n",
    "      number_of_points<-input$numeric\n",
    "      minX <- input$sliderX[1]\n",
    "      maxX <- input$sliderX[2]\n",
    "      minY <- input$sliderY[1]\n",
    "      maxY <- input$sliderY[2]\n",
    "      dataX <- runif(number_of_points, minX, maxX)\n",
    "      dataY <- runif(number_of_points, minY, maxY)\n",
    "      xlab <- ifelse(input$show_xlab, 'X Axis', '')\n",
    "      ylab <- ifelse(input$show_ylab, 'Y Axis', '')\n",
    "      main <- \n",
    "      plot(dataX, dataY, xlab = xlab, ylab = ylab, main = main,\n",
    "           xlim = c(-100, 100), ylim = c(-100, 100))\n",
    "    })\n",
    "\n",
    "}\n"
   ]
  }
 ],
 "metadata": {
  "kernelspec": {
   "display_name": "R",
   "language": "R",
   "name": "ir"
  },
  "language_info": {
   "codemirror_mode": "r",
   "file_extension": ".r",
   "mimetype": "text/x-r-source",
   "name": "R",
   "pygments_lexer": "r",
   "version": "4.3.2"
  }
 },
 "nbformat": 4,
 "nbformat_minor": 5
}
