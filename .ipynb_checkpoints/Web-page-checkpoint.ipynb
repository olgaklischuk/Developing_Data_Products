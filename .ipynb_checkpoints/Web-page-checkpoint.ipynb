{
 "cells": [
  {
   "cell_type": "raw",
   "id": "6cc98ebf",
   "metadata": {},
   "source": [
    "---\n",
    "title: \"Map\"\n",
    "date: \"2023-12-30\"\n",
    "output: html_document\n",
    "---"
   ]
  },
  {
   "cell_type": "markdown",
   "id": "6658fdcf",
   "metadata": {
    "lines_to_next_cell": 0
   },
   "source": [
    "## Map of shelters and points of invinsibility\n",
    " \n",
    "Map of bomb shelters and points of invincibility during air attacks."
   ]
  },
  {
   "cell_type": "code",
   "execution_count": null,
   "id": "525d5be9",
   "metadata": {
    "echo": false,
    "lines_to_next_cell": 0,
    "warning": false
   },
   "outputs": [],
   "source": [
    "suppressPackageStartupMessages(\n",
    "library(dplyr)\n",
    "  )\n",
    "library(leaflet)\n",
    "\n",
    "df <- data.frame(lat = runif(20, 50.40, 50.50), lng = runif(20, 30.35, 30.45), col = sample(c('red', 'blue','green'), 20, replace = T), stringAsFactor = F)\n",
    "\n",
    "suppressMessages(\n",
    "  df %>% \n",
    "  leaflet() %>% \n",
    "  addTiles() %>% \n",
    "  addCircleMarkers(color = df$col) %>% \n",
    "  addLegend(labels = c('bomb shelters', 'points of invincibility (charging and heating station)', 'others'), colors = c(\"blue\", \"red\",\"green\"))\n",
    "  )"
   ]
  },
  {
   "cell_type": "markdown",
   "id": "ad2661e7",
   "metadata": {},
   "source": [
    "\n"
   ]
  }
 ],
 "metadata": {
  "jupytext": {
   "cell_metadata_filter": "echo,warning,-all",
   "main_language": "R",
   "notebook_metadata_filter": "-all"
  }
 },
 "nbformat": 4,
 "nbformat_minor": 5
}
