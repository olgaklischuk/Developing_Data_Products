{
 "cells": [
  {
   "cell_type": "code",
   "execution_count": 1,
   "id": "16a137c8-6ee8-4abe-b2d9-a7d36bf514e6",
   "metadata": {
    "tags": []
   },
   "outputs": [
    {
     "data": {
      "text/html": [
       "<pre class=language-r><code>function (input, output, session) \n",
       "{\n",
       "<span style=white-space:pre-wrap>    output$plot1 &lt;- renderPlot({</span>\n",
       "<span style=white-space:pre-wrap>        set.seed(2023 - 12 - 6)</span>\n",
       "<span style=white-space:pre-wrap>        number_of_points &lt;- input$numeric</span>\n",
       "<span style=white-space:pre-wrap>        minX &lt;- input$sliderX[1]</span>\n",
       "<span style=white-space:pre-wrap>        maxX &lt;- input$sliderX[2]</span>\n",
       "<span style=white-space:pre-wrap>        minY &lt;- input$sliderY[1]</span>\n",
       "<span style=white-space:pre-wrap>        maxY &lt;- input$sliderY[2]</span>\n",
       "<span style=white-space:pre-wrap>        dataX &lt;- runif(number_of_points, minX, maxX)</span>\n",
       "<span style=white-space:pre-wrap>        dataY &lt;- runif(number_of_points, minY, maxY)</span>\n",
       "<span style=white-space:pre-wrap>        xlab &lt;- ifelse(input$show_xlab, \"X Axis\", \"\")</span>\n",
       "<span style=white-space:pre-wrap>        ylab &lt;- ifelse(input$show_ylab, \"Y Axis\", \"\")</span>\n",
       "<span style=white-space:pre-wrap>        main &lt;- plot(dataX, dataY, xlab = xlab, ylab = ylab, </span>\n",
       "<span style=white-space:pre-wrap>            main = main, xlim = c(-100, 100), ylim = c(-100, </span>\n",
       "<span style=white-space:pre-wrap>                100))</span>\n",
       "<span style=white-space:pre-wrap>    })</span>\n",
       "}</code></pre>"
      ],
      "text/latex": [
       "\\begin{minted}{r}\n",
       "function (input, output, session) \n",
       "\\{\n",
       "    output\\$plot1 <- renderPlot(\\{\n",
       "        set.seed(2023 - 12 - 6)\n",
       "        number\\_of\\_points <- input\\$numeric\n",
       "        minX <- input\\$sliderX{[}1{]}\n",
       "        maxX <- input\\$sliderX{[}2{]}\n",
       "        minY <- input\\$sliderY{[}1{]}\n",
       "        maxY <- input\\$sliderY{[}2{]}\n",
       "        dataX <- runif(number\\_of\\_points, minX, maxX)\n",
       "        dataY <- runif(number\\_of\\_points, minY, maxY)\n",
       "        xlab <- ifelse(input\\$show\\_xlab, \"X Axis\", \"\")\n",
       "        ylab <- ifelse(input\\$show\\_ylab, \"Y Axis\", \"\")\n",
       "        main <- plot(dataX, dataY, xlab = xlab, ylab = ylab, \n",
       "            main = main, xlim = c(-100, 100), ylim = c(-100, \n",
       "                100))\n",
       "    \\})\n",
       "\\}\n",
       "\\end{minted}"
      ],
      "text/markdown": [
       "```r\n",
       "function (input, output, session) \n",
       "{\n",
       "    output$plot1 <- renderPlot({\n",
       "        set.seed(2023 - 12 - 6)\n",
       "        number_of_points <- input$numeric\n",
       "        minX <- input$sliderX[1]\n",
       "        maxX <- input$sliderX[2]\n",
       "        minY <- input$sliderY[1]\n",
       "        maxY <- input$sliderY[2]\n",
       "        dataX <- runif(number_of_points, minX, maxX)\n",
       "        dataY <- runif(number_of_points, minY, maxY)\n",
       "        xlab <- ifelse(input$show_xlab, \"X Axis\", \"\")\n",
       "        ylab <- ifelse(input$show_ylab, \"Y Axis\", \"\")\n",
       "        main <- plot(dataX, dataY, xlab = xlab, ylab = ylab, \n",
       "            main = main, xlim = c(-100, 100), ylim = c(-100, \n",
       "                100))\n",
       "    })\n",
       "}\n",
       "```"
      ],
      "text/plain": [
       "function(input, output, session) {\n",
       "\n",
       "    output$plot1 <- renderPlot({\n",
       "      set.seed(2023-12-06)\n",
       "      number_of_points<-input$numeric\n",
       "      minX <- input$sliderX[1]\n",
       "      maxX <- input$sliderX[2]\n",
       "      minY <- input$sliderY[1]\n",
       "      maxY <- input$sliderY[2]\n",
       "      dataX <- runif(number_of_points, minX, maxX)\n",
       "      dataY <- runif(number_of_points, minY, maxY)\n",
       "      xlab <- ifelse(input$show_xlab, 'X Axis', '')\n",
       "      ylab <- ifelse(input$show_ylab, 'Y Axis', '')\n",
       "      main <- \n",
       "      plot(dataX, dataY, xlab = xlab, ylab = ylab, main = main,\n",
       "           xlim = c(-100, 100), ylim = c(-100, 100))\n",
       "    })\n",
       "\n",
       "}"
      ]
     },
     "metadata": {},
     "output_type": "display_data"
    }
   ],
   "source": [
    "#PLot for random numbers\n",
    "library(shiny)\n",
    "\n",
    "# Define server logic required to draw a histogram\n",
    "function(input, output, session) {\n",
    "\n",
    "    output$plot1 <- renderPlot({\n",
    "      set.seed(2023-12-06)\n",
    "      number_of_points<-input$numeric\n",
    "      minX <- input$sliderX[1]\n",
    "      maxX <- input$sliderX[2]\n",
    "      minY <- input$sliderY[1]\n",
    "      maxY <- input$sliderY[2]\n",
    "      dataX <- runif(number_of_points, minX, maxX)\n",
    "      dataY <- runif(number_of_points, minY, maxY)\n",
    "      xlab <- ifelse(input$show_xlab, 'X Axis', '')\n",
    "      ylab <- ifelse(input$show_ylab, 'Y Axis', '')\n",
    "      main <- \n",
    "      plot(dataX, dataY, xlab = xlab, ylab = ylab, main = main,\n",
    "           xlim = c(-100, 100), ylim = c(-100, 100))\n",
    "    })\n",
    "\n",
    "}\n"
   ]
  },
  {
   "cell_type": "code",
   "execution_count": null,
   "id": "35a22e42-918d-43ea-a34e-e55b459b00d4",
   "metadata": {},
   "outputs": [],
   "source": []
  }
 ],
 "metadata": {
  "kernelspec": {
   "display_name": "R",
   "language": "R",
   "name": "ir"
  },
  "language_info": {
   "codemirror_mode": "r",
   "file_extension": ".r",
   "mimetype": "text/x-r-source",
   "name": "R",
   "pygments_lexer": "r",
   "version": "4.3.2"
  }
 },
 "nbformat": 4,
 "nbformat_minor": 5
}
