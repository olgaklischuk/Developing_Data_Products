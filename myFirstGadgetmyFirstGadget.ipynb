{
 "cells": [
  {
   "cell_type": "code",
   "execution_count": 1,
   "id": "3de2d347-8e29-4b49-b249-6dcbe19982ff",
   "metadata": {
    "tags": []
   },
   "outputs": [],
   "source": [
    "#ShinyGadgets 1.1-1.2\n",
    "library(shiny)\n",
    "library(miniUI)"
   ]
  },
  {
   "cell_type": "code",
   "execution_count": null,
   "id": "f94cd645-55b9-4073-8468-f531c375efe7",
   "metadata": {
    "tags": []
   },
   "outputs": [
    {
     "name": "stderr",
     "output_type": "stream",
     "text": [
      "\n",
      "Listening on http://127.0.0.1:3953\n",
      "\n"
     ]
    }
   ],
   "source": [
    "myFirstGadget <- function(){\n",
    "  ui <- miniPage(\n",
    "    gadgetTitleBar('Gadget'))\n",
    "  \n",
    "  server <- function(input, output, session){\n",
    "       \n",
    "      # The Done button\n",
    "      observeEvent(input$done, {\n",
    "        stopApp()\n",
    "      })\n",
    "    }\n",
    "  runGadget(ui, server)\n",
    "}\n",
    "myFirstGadget()"
   ]
  },
  {
   "cell_type": "code",
   "execution_count": null,
   "id": "39179435-59a8-489b-958d-e11c9251c8b9",
   "metadata": {
    "tags": []
   },
   "outputs": [],
   "source": [
    "multiplyNumbers <- function(numbers1, numbers2){\n",
    "  ui<-miniPage(\n",
    "    gadgetTitleBar('Multiplication'),\n",
    "    miniContentPanel(\n",
    "      selectInput('num1', 'First Number', choices = numbers1),\n",
    "      selectInput('num2', 'Second Number', choices = numbers2)\n",
    "    )\n",
    "  )\n",
    "  server<-function(input, output, session){\n",
    "    observeEvent(input$done, {\n",
    "      num1 <- as.numeric(input$num1)\n",
    "      num2 <- as.numeric(input$num2)\n",
    "      stopApp(num1 = num2)\n",
    "    })\n",
    "    runGadget(ui, server)\n",
    "  }\n",
    "}"
   ]
  },
  {
   "cell_type": "code",
   "execution_count": null,
   "id": "1cddb327",
   "metadata": {},
   "outputs": [],
   "source": [
    "multiplyNumbers(numbers1 = 1:121, numbers2 = 1:121)"
   ]
  },
  {
   "cell_type": "code",
   "execution_count": null,
   "id": "717bda53-c682-4ee2-8998-515b6dde85ff",
   "metadata": {
    "tags": []
   },
   "outputs": [],
   "source": [
    "library(shiny)\n",
    "library(miniUI)\n",
    "\n",
    "pickXY <- function() {\n",
    "  ui <- miniPage(\n",
    "    gadgetTitleBar(\"Select Points by Dragging your Mouse\"),\n",
    "    miniContentPanel(\n",
    "      plotOutput(\"plot\", height = \"100%\", brush = \"brush\")\n",
    "    )\n",
    "  )\n",
    "\n",
    "  server <- function(input, output, session) {\n",
    "      output$plot <- renderPlot({\n",
    "        plot(data_frame$X, data_frame$Y, main = \"Plot of Y versus X\",\n",
    "           xlab = \"X\", ylab = \"Y\")\n",
    "      })\n",
    "      observeEvent(input$done, {\n",
    "        stopApp(brushedPoints(data_frame, input$brush,\n",
    "                          xvar = \"X\", yvar = \"Y\"))\n",
    "      })\n",
    "  }\n",
    "\n",
    "  runGadget(ui, server)\n",
    "}\n",
    "\n",
    "my_data <- data.frame(X = rnorm(100), Y = rnorm(100))\n",
    "\n",
    "pickXY()"
   ]
  },
  {
   "cell_type": "code",
   "execution_count": null,
   "id": "578126e9-f0ac-4576-bdd2-f5f13f9f812b",
   "metadata": {},
   "outputs": [],
   "source": []
  }
 ],
 "metadata": {
  "jupytext": {
   "cell_metadata_filter": "-all",
   "main_language": "R",
   "notebook_metadata_filter": "-all"
  },
  "kernelspec": {
   "display_name": "R",
   "language": "R",
   "name": "ir"
  },
  "language_info": {
   "codemirror_mode": "r",
   "file_extension": ".r",
   "mimetype": "text/x-r-source",
   "name": "R",
   "pygments_lexer": "r",
   "version": "4.3.2"
  }
 },
 "nbformat": 4,
 "nbformat_minor": 5
}
